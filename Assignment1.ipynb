{
 "cells": [
  {
   "cell_type": "markdown",
   "id": "42cdb1da-7492-44f7-b815-d5dd73774391",
   "metadata": {},
   "source": [
    "# Question (1):- What are the characteristics of the tuples? Is tuple immutable?\n",
    "\n",
    "Answer (1):- A tuple is a sequence of values separated by commas and enclosed in parentheses. Tuples are similar to lists in many ways, but they are immutable, which means that once a tuple is created, its contents cannot be changed.\n",
    "\n",
    "Some of the characteristics of tuples are:\n",
    "\n",
    "Tuples are ordered: The order of elements in a tuple is preserved and can be accessed using indices.\n",
    "\n",
    "Tuples allow duplicates: A tuple can contain duplicate elements.\n",
    "\n",
    "Tuples can contain elements of different data types: A tuple can contain elements of any data type, including other tuples.\n",
    "\n",
    "Tuples are immutable: Once a tuple is created, its contents cannot be changed. However, you can create a new tuple by concatenating two or more tuples.\n",
    "\n",
    "Tuples are more memory-efficient than lists: Because tuples are immutable, they take up less memory than lists, which can be useful when working with large datasets.\n",
    "\n",
    "In summary, tuples are similar to lists, but they are immutable, ordered, allow duplicates and can contain elements of different data types.\n"
   ]
  },
  {
   "cell_type": "markdown",
   "id": "686a60da-f30e-45ca-bb79-2f03088c2728",
   "metadata": {},
   "source": [
    "# Question (2):- What are the two tuple methods in python? Give an example of each method. Give a reason why\n",
    "\n",
    "\n",
    "Answer (2):- tuples have only two in-built methods as compared to Lists.\n",
    "\n",
    "The two tuple methods in Python are:\n",
    "\n",
    "count(): This method returns the number of times a specified element appears in a tuple.\n",
    "Example:\n",
    "\n",
    "scss\n",
    "Copy code\n",
    "t = (1, 2, 3, 4, 2, 3, 2)\n",
    "count = t.count(2)\n",
    "print(count)  # Output: 3\n",
    "index(): This method returns the index of the first occurrence of a specified element in a tuple.\n",
    "Example:\n",
    "\n",
    "perl\n",
    "Copy code\n",
    "t = (1, 2, 3, 4, 2, 3, 2)\n",
    "index = t.index(3)\n",
    "print(index)  # Output: 2\n",
    "The reason why tuples have only two in-built methods as compared to lists is that tuples are immutable, which means that their contents cannot be changed once they are created. As a result, many of the methods that are available for lists, such as append(), extend(), insert(), and remove(), which modify the list in place, do not make sense for tuples. The two tuple methods, count() and index(), are designed to work with the contents of the tuple without modifying it, which is why they are sufficient for most use cases involving tuples."
   ]
  },
  {
   "cell_type": "markdown",
   "id": "3c16ea58-ea68-47e9-b37a-dcbed3fd5aed",
   "metadata": {},
   "source": [
    "# Q3. Which collection datatypes in python do not allow duplicate items? Write a code using a set to remove\n",
    "duplicates from the given list.\n",
    "List = [1, 1, 1, 2, 1, 3, 1, 4, 2, 1, 2, 2, 2, 3, 2, 4, 3, 1, 3, 2, 3, 3, 3, 4, 4, 1, 4, 2, 4, 3, 4, 4]\n",
    "\n",
    "Answer (3):- The collection datatype in Python that does not allow duplicate items is a Set.\n",
    "\n",
    "Here is the code using a Set to remove duplicates from the given list:\n",
    "\n",
    "python\n",
    "Copy code\n",
    "lst = [1, 1, 1, 2, 1, 3, 1, 4, 2, 1, 2, 2, 2, 3, 2, 4, 3, 1, 3, 2, 3, 3, 3, 4, 4, 1, 4, 2, 4, 3, 4, 4]\n",
    "unique_lst = set(lst)\n",
    "print(list(unique_lst))\n",
    "Output:\n",
    "\n",
    "csharp\n",
    "Copy code\n",
    "[1, 2, 3, 4]\n",
    "In the code above, we first create a list lst with duplicate elements. Then we use the set() function to create a set unique_lst from the list lst. Since sets do not allow duplicate items, the set unique_lst contains only the unique elements from the list lst. Finally, we convert the set back to a list using the list() function and print the result.\n",
    "\n"
   ]
  },
  {
   "cell_type": "code",
   "execution_count": null,
   "id": "e79e914f-2f40-42b5-add1-b53cc51e6890",
   "metadata": {},
   "outputs": [],
   "source": []
  },
  {
   "cell_type": "markdown",
   "id": "17216183-5f3f-415e-8c4e-381ebff7b17c",
   "metadata": {},
   "source": [
    "## Q4. Explain the difference between the union() and update() methods for a set. Give an example of each method."
   ]
  },
  {
   "cell_type": "code",
   "execution_count": 4,
   "id": "0bca76a5-1a03-481e-8303-1e22bcad1383",
   "metadata": {},
   "outputs": [
    {
     "name": "stdout",
     "output_type": "stream",
     "text": [
      "{1, 2, 3, 4, 5}\n"
     ]
    }
   ],
   "source": [
    "## Answer(4):- The union() and update() methods are both used to combine multiple sets into a single set, but they differ in how they modify the original set and return values.\n",
    "\n",
    "## union() method returns a new set containing all the unique elements from all the sets involved in the operation. It does not modify the original sets, and it returns the new set as a result.\n",
    "\n",
    "set1= {1,2,3}\n",
    "set2= {2,3,4}\n",
    "set3= {3,4,5}\n",
    "\n",
    "new_set= set1.union(set2, set3)\n",
    "print(new_set)\n",
    "\n",
    "## In the example above, union() method is called on set1 and passed set2 and set3 as arguments, it returns a new set new_set containing all the unique elements from all the sets involved.\n"
   ]
  },
  {
   "cell_type": "code",
   "execution_count": 6,
   "id": "3e2895fb-732c-494d-912d-48b8000baa2f",
   "metadata": {},
   "outputs": [
    {
     "name": "stdout",
     "output_type": "stream",
     "text": [
      "{1, 2, 3, 4, 5}\n"
     ]
    }
   ],
   "source": [
    "## update() method modifies the original set in place by adding all the unique elements from the other sets into it.It returns None, which means that it doesn't return a new set.\n",
    "\n",
    "set1 = {1, 2, 3}\n",
    "set2 = {2, 3, 4}\n",
    "set3 = {3, 4, 5}\n",
    "\n",
    "set1.update(set2, set3)\n",
    "print(set1)\n"
   ]
  },
  {
   "cell_type": "markdown",
   "id": "1da5a95f-ebc5-4514-b240-57f670dc5b1c",
   "metadata": {},
   "source": []
  },
  {
   "cell_type": "markdown",
   "id": "fe7d3c49-52f7-439e-8ac8-5628aef2c405",
   "metadata": {},
   "source": [
    "## (Q5)-What is a dictionary? Give an example. Also, state whether a dictionary is ordered or unordered."
   ]
  },
  {
   "cell_type": "markdown",
   "id": "c6448ce9-9aa6-4024-955c-a86efad90bdc",
   "metadata": {},
   "source": [
    "## Answer A dictionary is a data structure in Python that allows you to store and retrieve data in a key-value pair format. In a dictionary, the key is a unique identifier for the value and is usually a string, integer, or tuple. The value can be of any type, including integers, floats, strings, lists, or even another dictionary.\n",
    "\n",
    "## A dictionary is defined using curly braces {} and separating each key-value pair using a colon :. Here is an example of a dictionary:\n",
    "\n",
    "\n",
    "my_dict = {'name': 'John', 'age': 30, 'gender': 'male'}\n",
    "\n",
    "\n",
    "## A dictionary is a data structure in Python that allows you to store and retrieve data in a key-value pair format. \n",
    "#In a dictionary, the key is a unique identifier for the value and is usually a string, integer, or tuple. \n",
    " The value can be of any type, including integers, floats, strings, lists, or even another dictionary.\n",
    "\n",
    "A dictionary is defined using curly braces {} and separating each key-value pair using a colon :.\n",
    "Here is an example of a dictionary:\n",
    "\n",
    "python\n",
    "Copy code\n",
    "my_dict = {'name': 'John', 'age': 30, 'gender': 'male'}\n",
    "In the example above, my_dict is a dictionary that has three key-value pairs. The keys are 'name', 'age', and 'gender', and their corresponding values are 'John', 30, and 'male', respectively.\n",
    "\n",
    "## One of the main features of a dictionary is that it is unordered.\n",
    "This means that the order in which the items are added to the dictionary is not preserved.\n",
    "If you iterate over a dictionary, you may get the items in a different order each time. \n",
    "##However, starting from Python 3.7, dictionaries are guaranteed to maintain the insertion order, meaning that items are added to the dictionary in the order they were added.\n",
    "\n",
    "\n",
    "\n",
    "\n"
   ]
  },
  {
   "cell_type": "code",
   "execution_count": null,
   "id": "30847f9d-b0f0-4795-abf7-f6208c1d866a",
   "metadata": {},
   "outputs": [],
   "source": []
  },
  {
   "cell_type": "markdown",
   "id": "7f7679ee-e5e2-40f0-af46-497d934a39ef",
   "metadata": {},
   "source": [
    "## Q6. Can we create a nested dictionary? If so, please give an example by creating a simple one-level nested dictionary."
   ]
  },
  {
   "cell_type": "code",
   "execution_count": 10,
   "id": "70630738-6442-46db-820c-268da32bf2d8",
   "metadata": {},
   "outputs": [
    {
     "name": "stdout",
     "output_type": "stream",
     "text": [
      "26\n"
     ]
    }
   ],
   "source": [
    "## Yes, we can create a nested dictionary in Python. A nested dictionary is a dictionary within a dictionary, where the value of a key can be another dictionary. \n",
    "## Here's an example of a one-level nested dictionary:\n",
    "\n",
    "employee_data = {\n",
    "    'Amit': {\n",
    "        'age': 26,\n",
    "        'position': 'Manager',\n",
    "        'salary': 50000\n",
    "    },\n",
    "    'Ashley': {\n",
    "        'age': 25,\n",
    "        'position': 'Developer',\n",
    "        'salary': 40000\n",
    "    }\n",
    "}\n",
    "\n",
    "print(employee_data['Amit']['age']) \n",
    "\n"
   ]
  },
  {
   "cell_type": "code",
   "execution_count": null,
   "id": "90b553e5-ad1f-404d-9101-5e12285d741a",
   "metadata": {},
   "outputs": [],
   "source": []
  },
  {
   "cell_type": "markdown",
   "id": "a316ac91-7f5b-4057-aacc-781973c338e6",
   "metadata": {},
   "source": [
    "## Q7. Using setdefault() method, create key named topics in the given dictionary and also add the value of\n",
    "## the key as this list ['Python', 'Machine Learning’, 'Deep Learning']\n",
    "## dict1 = {'language' : 'Python', 'course': 'Data Science Masters'}"
   ]
  },
  {
   "cell_type": "code",
   "execution_count": 11,
   "id": "5fb80a80-948f-48e2-a8bd-734d57388378",
   "metadata": {},
   "outputs": [
    {
     "name": "stdout",
     "output_type": "stream",
     "text": [
      "{'language': 'Python', 'course': 'Data Science Masters', 'topics': ['Python', 'Machine Learning', 'Deep Learning']}\n",
      "['Python', 'Machine Learning', 'Deep Learning']\n"
     ]
    }
   ],
   "source": [
    "## (Answer7)- Here's how you can use the setdefault() method to add a key-value pair to a dictionary if the key does not exist, and return the value of the key if it already exists:\n",
    "\n",
    "dict1 = {'language': 'Python', 'course': 'Data Science Masters'}\n",
    "topics_list = ['Python', 'Machine Learning', 'Deep Learning']\n",
    "\n",
    "topics = dict1.setdefault('topics', topics_list)\n",
    "\n",
    "print(dict1)\n",
    "print(topics)\n",
    "\n"
   ]
  },
  {
   "cell_type": "code",
   "execution_count": null,
   "id": "0cfe2d31-9684-4048-9fe5-2a40dd624910",
   "metadata": {},
   "outputs": [],
   "source": []
  },
  {
   "cell_type": "markdown",
   "id": "7f951e72-19f7-4e7a-bc19-2359cedc77ff",
   "metadata": {},
   "source": [
    "## Q8. What are the three view objects in dictionaries? Use the three in-built methods in python to display\n",
    "## these three view objects for the given dictionary.\n",
    "## dict1 = {'Sport': 'Cricket' , 'Teams': ['India', 'Australia', 'England', 'South Africa', 'Sri Lanka', 'New Zealand']}"
   ]
  },
  {
   "cell_type": "code",
   "execution_count": 16,
   "id": "1de8e195-003a-41de-93fc-5da7bf196adb",
   "metadata": {},
   "outputs": [
    {
     "name": "stdout",
     "output_type": "stream",
     "text": [
      "Keys view: dict_keys(['Sport', 'Teams'])\n",
      "Values view: dict_values(['Cricket', ['India', 'Australia', 'England', 'South Africa', 'Sri Lanka', 'New Zealand']])\n",
      "Items view: dict_items([('Sport', 'Cricket'), ('Teams', ['India', 'Australia', 'England', 'South Africa', 'Sri Lanka', 'New Zealand'])])\n"
     ]
    }
   ],
   "source": [
    "### (Answers)- In Python dictionaries, there are three types of view objects that provide a dynamic view of the dictionary's contents:\n",
    "\n",
    "## dict_keys: This view object provides a dynamic view of the keys in the dictionary.\n",
    "## dict_values: This view object provides a dynamic view of the values in the dictionary.\n",
    "## dict_items: This view object provides a dynamic view of the key-value pairs in the dictionary.\n",
    "## Here are the three in-built methods in Python to display these three view objects for the given dictionary:\n",
    "    \n",
    "   \n",
    "    \n",
    "dict1 = {'Sport': 'Cricket', 'Teams': ['India', 'Australia', 'England', 'South Africa', 'Sri Lanka', 'New Zealand']}\n",
    "\n",
    "# Get the view object for keys\n",
    "keys_view = dict1.keys()\n",
    "\n",
    "# Get the view object for values\n",
    "values_view = dict1.values()\n",
    "\n",
    "# Get the view object for key-value pairs\n",
    "items_view = dict1.items()\n",
    "\n",
    "# Display the three view objects\n",
    "print('Keys view:', keys_view)\n",
    "print('Values view:', values_view)\n",
    "print('Items view:', items_view)\n",
    "\n"
   ]
  },
  {
   "cell_type": "code",
   "execution_count": null,
   "id": "3a6b827e-1fdf-4eb0-8f22-05e9c5e20957",
   "metadata": {},
   "outputs": [],
   "source": []
  },
  {
   "cell_type": "code",
   "execution_count": null,
   "id": "e8beb445-6c29-46d8-8fe7-007d2ba2ca40",
   "metadata": {},
   "outputs": [],
   "source": []
  },
  {
   "cell_type": "code",
   "execution_count": null,
   "id": "54bfc52d-3b99-4067-95d9-fb1bbd0f64d3",
   "metadata": {},
   "outputs": [],
   "source": []
  },
  {
   "cell_type": "code",
   "execution_count": null,
   "id": "33e6b1ee-98f3-40d0-a2d5-ba81d44cc1af",
   "metadata": {},
   "outputs": [],
   "source": []
  },
  {
   "cell_type": "code",
   "execution_count": null,
   "id": "e0be0837-1a81-4620-88ae-7177764403b6",
   "metadata": {},
   "outputs": [],
   "source": []
  },
  {
   "cell_type": "code",
   "execution_count": null,
   "id": "027bbe91-5d88-4d1a-a549-396a3a7297ac",
   "metadata": {},
   "outputs": [],
   "source": []
  },
  {
   "cell_type": "code",
   "execution_count": null,
   "id": "aa121bd9-582c-4ffc-b381-538fd7ce818b",
   "metadata": {},
   "outputs": [],
   "source": []
  },
  {
   "cell_type": "code",
   "execution_count": null,
   "id": "ae3ceb95-a87b-486b-808a-233c5ca9fa57",
   "metadata": {},
   "outputs": [],
   "source": []
  },
  {
   "cell_type": "code",
   "execution_count": null,
   "id": "34d8ebf6-009f-4000-b803-5afc1b0f0379",
   "metadata": {},
   "outputs": [],
   "source": []
  },
  {
   "cell_type": "code",
   "execution_count": null,
   "id": "698e85ad-32b1-45c2-9f89-6a4fe478f8ad",
   "metadata": {},
   "outputs": [],
   "source": []
  }
 ],
 "metadata": {
  "kernelspec": {
   "display_name": "Python 3 (ipykernel)",
   "language": "python",
   "name": "python3"
  },
  "language_info": {
   "codemirror_mode": {
    "name": "ipython",
    "version": 3
   },
   "file_extension": ".py",
   "mimetype": "text/x-python",
   "name": "python",
   "nbconvert_exporter": "python",
   "pygments_lexer": "ipython3",
   "version": "3.10.8"
  }
 },
 "nbformat": 4,
 "nbformat_minor": 5
}
